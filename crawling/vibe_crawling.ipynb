{
 "cells": [
  {
   "cell_type": "code",
   "execution_count": null,
   "metadata": {},
   "outputs": [],
   "source": [
    "from bs4 import BeautifulSoup\n",
    "from selenium import webdriver\n",
    "import time"
   ]
  },
  {
   "cell_type": "code",
   "execution_count": null,
   "metadata": {},
   "outputs": [],
   "source": [
    "driver = webdriver.Chrome('E:\\PycharmProjects\\BitProject\\chromedriver')\n",
    "driver.set_window_size(1400, 900)\n",
    "driver.implicitly_wait(3)"
   ]
  },
  {
   "cell_type": "code",
   "execution_count": null,
   "metadata": {},
   "outputs": [],
   "source": [
    "# pagenum = 1\n",
    "# musicnum = 1\n",
    "title = []\n",
    "singer = []\n",
    "lyrics = []\n",
    "\n",
    "driver.get('https://vibe.naver.com')\n",
    "\n",
    "\n",
    "# 광고창 끄기\n",
    "driver.find_element_by_xpath('//*[@id=\"app\"]/div[2]/div/div/a[2]').click()\n",
    "\n",
    "\n",
    "for pagenum in range(1, 4):\n",
    "    driver.get('https://vibe.naver.com/artist/{}/tracks'.format(pagenum))  # 번호늘려가면서 반복\n",
    "    # 번호 늘려가면서 반복\n",
    "    for musicnum in range(1, 2):\n",
    "        # 가사창 열기\n",
    "        driver.find_element_by_xpath(\n",
    "            '//*[@id=\"content\"]/div/div[3]/div[1]/div/table/tbody/tr[{}]/td[7]'.format(musicnum)).click()\n",
    "        # 크롤링\n",
    "        html = driver.page_source\n",
    "        soup = BeautifulSoup(html, 'html.parser')\n",
    "        title.append(soup.find('strong', 'ly_title').get_text())\n",
    "        singer.append(soup.find('em', 'ly_artist').get_text())\n",
    "        lyrics.append(soup.find('p', 'ly_text').get_text())\n",
    "        # 가사창 닫기\n",
    "        driver.find_element_by_xpath('//*[@id=\"app\"]/div[2]/div/div/a').click()\n",
    "        time.sleep(3)\n",
    "        \n",
    "        \n",
    "for i in lyrics:\n",
    "    print(i)"
   ]
  }
 ],
 "metadata": {
  "hide_input": false,
  "kernelspec": {
   "display_name": "Python 3",
   "language": "python",
   "name": "python3"
  },
  "language_info": {
   "codemirror_mode": {
    "name": "ipython",
    "version": 3
   },
   "file_extension": ".py",
   "mimetype": "text/x-python",
   "name": "python",
   "nbconvert_exporter": "python",
   "pygments_lexer": "ipython3",
   "version": "3.8.3"
  },
  "toc": {
   "base_numbering": 1,
   "nav_menu": {},
   "number_sections": true,
   "sideBar": true,
   "skip_h1_title": false,
   "title_cell": "Table of Contents",
   "title_sidebar": "Contents",
   "toc_cell": false,
   "toc_position": {},
   "toc_section_display": true,
   "toc_window_display": false
  }
 },
 "nbformat": 4,
 "nbformat_minor": 4
}

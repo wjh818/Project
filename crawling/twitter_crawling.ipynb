{
 "cells": [
  {
   "cell_type": "code",
   "execution_count": null,
   "metadata": {},
   "outputs": [],
   "source": [
    "# pip install python-twitter"
   ]
  },
  {
   "cell_type": "code",
   "execution_count": null,
   "metadata": {},
   "outputs": [],
   "source": [
    "twitter_consumer_key = \"4NGQzuIQlHzLSzvHwBbW6eyN4\"\n",
    "twitter_consumer_secret = \"AiHovmoN7e77fReEqy9pvVIe7uNZq4auwobZqjpcu8SeErACTF\"\n",
    "twitter_access_token = \"4576939638-cDjUjuaOdQN3b3NYsUJDUJui2rAQe25OUHj0D0d\"\n",
    "twitter_access_secret = \"0yXkvKR1XRVHozKegQP4gidXyclVFd8ZD6FsIQDU2AIKt\""
   ]
  },
  {
   "cell_type": "code",
   "execution_count": null,
   "metadata": {},
   "outputs": [],
   "source": [
    "import twitter\n",
    "import json\n",
    "from pymongo import MongoClient\n",
    "from pymongo.cursor import CursorType"
   ]
  },
  {
   "cell_type": "code",
   "execution_count": null,
   "metadata": {},
   "outputs": [],
   "source": [
    "def insert_item_one(mongo, data, db_name=None, collection_name=None):\n",
    "    result = mongo[db_name][collection_name].insert_one(data).inserted_id\n",
    "    return result\n",
    "host = \"localhost\"\n",
    "port = \"27017\"\n",
    "mongo = MongoClient(host, int(port))"
   ]
  },
  {
   "cell_type": "code",
   "execution_count": null,
   "metadata": {},
   "outputs": [],
   "source": [
    "twitter_api = twitter.Api(consumer_key=twitter_consumer_key,\n",
    "                          consumer_secret=twitter_consumer_secret,\n",
    "                          access_token_key=twitter_access_token,\n",
    "                          access_token_secret=twitter_access_secret)\n",
    "text = []\n",
    "\n",
    "# query = [\"이별 OR 슬픔 OR 괴로움 OR 자괴감\"]\n",
    "query = [\"이별\",\"슬프\",\"실망\",\"심란\",\"우울\",\"행복\",\"눈물\",\"짜증\",\"감동\",\"만족\",\n",
    "         \"사랑\",\"편안\",\"재미\",\"활기\",\"자랑\",\"설렘\",\"분노\",\"화난\",\"민망\",\"자책\",\n",
    "         \"창피\",\"쓸쓸\",\"고독\",\"곤욕\",\"낙담\",\"난처\",\"미안\",\"부끄\",\"상실\",\"서운\",\n",
    "         \"섭섭\",\"속상\",\"감사\",\"기쁘\",\"상쾌\",\"아쉽\",\"울적\",\"긴장\",\"포기\",\"절망\",\n",
    "         \"착잡\",\"초라\",\"침울\",\"다행\",\"흐뭇\",\"기묘\",\"당황\",\"한탄\",\"허무\",\"후회\",\n",
    "         \"굴욕\",\"무시\",\"불안\",\"소름\",\"부담\",\"심심\",\"야박\",\"얄밉\",\"웃음\",\"증오\",\n",
    "         \"흥분\",\"지긋\",\"지루\",\"흥미\",\"머쓱\",\"걱정\",\"조심\",\"불쾌\",\"한심\",\"감탄\"]\n",
    "stream = twitter_api.GetStreamFilter(track=query)\n",
    "\n",
    "print(\"test\")\n",
    "i=0\n",
    "\n",
    "for status in stream:\n",
    "    text.append(status['text'])\n",
    "    print(\"{}\".format(text[i]))\n",
    "    insert_item_one(mongo, {\"text\": \"{}\".format(text[i])}, \"twitter\", \"tw\")\n",
    "    i += 1"
   ]
  }
 ],
 "metadata": {
  "hide_input": false,
  "kernelspec": {
   "display_name": "Python 3",
   "language": "python",
   "name": "python3"
  },
  "language_info": {
   "codemirror_mode": {
    "name": "ipython",
    "version": 3
   },
   "file_extension": ".py",
   "mimetype": "text/x-python",
   "name": "python",
   "nbconvert_exporter": "python",
   "pygments_lexer": "ipython3",
   "version": "3.8.3"
  },
  "toc": {
   "base_numbering": 1,
   "nav_menu": {},
   "number_sections": true,
   "sideBar": true,
   "skip_h1_title": false,
   "title_cell": "Table of Contents",
   "title_sidebar": "Contents",
   "toc_cell": false,
   "toc_position": {},
   "toc_section_display": true,
   "toc_window_display": false
  }
 },
 "nbformat": 4,
 "nbformat_minor": 4
}

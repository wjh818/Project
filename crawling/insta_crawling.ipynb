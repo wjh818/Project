{
 "cells": [
  {
   "cell_type": "code",
   "execution_count": null,
   "metadata": {},
   "outputs": [],
   "source": [
    "import requests\n",
    "from bs4 import BeautifulSoup\n",
    "from  selenium import webdriver\n",
    "from selenium.webdriver.common.keys import Keys\n",
    "import time as time\n",
    "import getpass\n",
    "import urllib.request\n",
    "import random\n",
    "import pandas as pd\n",
    "import numpy as np\n",
    "import matplotlib.pyplot as plt\n",
    "import pymongo\n",
    "%matplotlib inline"
   ]
  },
  {
   "cell_type": "code",
   "execution_count": null,
   "metadata": {},
   "outputs": [],
   "source": [
    "def select_first(driver):\n",
    "    first = driver.find_element_by_css_selector('div._9AhH0') \n",
    "    #find_element_by_css_selector 함수를 사용해 요소 찾기\n",
    "    first.click()\n",
    "    time.sleep(3) #로딩을 위해 3초 대기\n",
    "#본문 내용, 작성 일시, 위치 정보 및 해시태그(#) 추출\n",
    "import re \n",
    "def get_content(driver):\n",
    "    # 1. 현재 페이지의 HTML 정보 가져오기\n",
    "    html = driver.page_source\n",
    "    soup = BeautifulSoup(html, 'lxml')    \n",
    "    # 2. 본문 내용 가져오기\n",
    "    try:  \t\t\t#여러 태그중 첫번째([0]) 태그를 선택  \n",
    "        content = soup.select('div.C4VMK > span')[0].text \n",
    "        \t\t\t#첫 게시글 본문 내용이 <div class=\"C4VMK\"> 임을 알 수 있다.\n",
    "                                #태그명이 div, class명이 C4VMK인 태그 아래에 있는 span 태그를 모두 선택.\n",
    "    except:\n",
    "        content = ' ' \n",
    "    # 3. 본문 내용에서 해시태그 가져오기(정규표현식 활용)\n",
    "    tags = re.findall(r'#[^\\s#,\\\\]+', content) # content 변수의 본문 내용 중 #으로 시작하며, #뒤에 연속된 문자(공백이나 #, \\ 기호가 아닌 경우)를 모두 찾아 tags 변수에 저장\n",
    "    # 4. 작성 일자 가져오기\n",
    "    try:\n",
    "        date = soup.select('time._1o9PC.Nzb55')[0]['datetime'][:10] #앞에서부터 10자리 글자\n",
    "    except:\n",
    "        date = ''\n",
    "    # 5. 좋아요 수 가져오기\n",
    "    try:\n",
    "        like = soup.select('div.Nm9Fw > button')[0].text[4:-1] \n",
    "    except:\n",
    "        like = 0\n",
    "    # 6. 위치 정보 가져오기\n",
    "    try:\n",
    "        place = soup.select('div.JF9hh')[0].text\n",
    "    except:\n",
    "        place = ''\n",
    "    data = [content, date, like, place, tags]\n",
    "    return data \n",
    "\n",
    "def move_next(driver):\n",
    "    right = driver.find_element_by_css_selector('a._65Bje.coreSpriteRightPaginationArrow') \n",
    "    right.click()\n",
    "    time.sleep(3)"
   ]
  },
  {
   "cell_type": "code",
   "execution_count": null,
   "metadata": {},
   "outputs": [],
   "source": [
    "user_agent = 'Mozilla/5.0 (Windows NT 10.0; Win64; x64) AppleWebKit/537.36 (KHTML, like Gecko) Chrome/87.0.4280.141 Safari/537.36 Edg/87.0.664.75'    \n",
    "\n",
    "options = webdriver.ChromeOptions()\n",
    "\n",
    "options.add_argument('user-agent={0}'.format(user_agent))\n",
    "options.add_argument('window-size=1920x1080')\n",
    "options.add_argument(\"disable-gpu\")\n",
    "options.add_argument('headless')\n",
    "\n",
    "driver = webdriver.Chrome(\"chromedriver.exe\", options=options)\n",
    "\n",
    "driver.get(\"https://www.instagram.com/accounts/login/\")\n",
    "driver.maximize_window()\n",
    "\n",
    "\n",
    "username = 'ID입력'\n",
    "password = 'PW입력'\n",
    " \n",
    "element_id = driver.find_element_by_name(\"username\")\n",
    "element_id.send_keys(username)\n",
    "element_password = driver.find_element_by_name(\"password\")\n",
    "element_password.send_keys(password)\n",
    " \n",
    "time.sleep(3)\n",
    "\n",
    "driver.find_element_by_css_selector('.sqdOP.L3NKy.y3zKF').click()\n",
    "\n",
    "time.sleep(3)"
   ]
  },
  {
   "cell_type": "code",
   "execution_count": null,
   "metadata": {},
   "outputs": [],
   "source": [
    "word = '검색어 입력'\n",
    "\n",
    "driver.get('https://www.instagram.com/explore/tags/' + word)\n",
    "\n",
    "time.sleep(3)"
   ]
  },
  {
   "cell_type": "code",
   "execution_count": null,
   "metadata": {},
   "outputs": [],
   "source": [
    "from pymongo import MongoClient\n",
    "from pymongo.cursor import CursorType\n",
    "\n",
    "host = \"localhost\"\n",
    "port = \"27017\"\n",
    "\n",
    "try:\n",
    "    mongo = MongoClient(host, int(port))\n",
    "except:\n",
    "    print(\"Mongo접속 Error\")"
   ]
  },
  {
   "cell_type": "code",
   "execution_count": null,
   "metadata": {},
   "outputs": [],
   "source": [
    "def insert_item_one(mongo, dates, db_name=None, collection_name=None):\n",
    "    result = mongo[db_name][collection_name].insert_one(dates).inserted_id\n",
    "    return result\n",
    "\n",
    "def insert_item_many(mongo, dates, db_name=None, collection_name=None):\n",
    "    result = mongo[db_name][collection_name].insert_many(dates).inserted_ids\n",
    "    return result\n",
    "\n",
    "def find_item_one(mongo, condition=None, db_name=None, collection_name=None):\n",
    "    result = mongo[db_name][collection_name].find_one(condition, {\"_id\": False})\n",
    "    return result\n",
    "\n",
    "def find_item(mongo, condition=None, db_name=None, collection_name=None):\n",
    "    result = mongo[db_name][collection_name].find(condition, {\"_id\":False}, no_cursor_timeout=True, cursor_type=CursorType.EXHAUST)\n",
    "    return result"
   ]
  },
  {
   "cell_type": "code",
   "execution_count": null,
   "metadata": {
    "hide_input": false,
    "scrolled": true
   },
   "outputs": [],
   "source": [
    "from tqdm import tqdm_notebook\n",
    "\n",
    "select_first(driver) \n",
    "#5. 비어있는 변수(results) 만들기\n",
    "results = [] \n",
    "\n",
    "result_contents =[]\n",
    "result_hashtag = []\n",
    "# Dict의 형태로 변환시킨 list\n",
    "result_li = []\n",
    "#여러 게시물 크롤링하기\n",
    "target = 10000 #크롤링할 게시물 수\n",
    "for i in tqdm_notebook(range(target)):\n",
    "    data = get_content(driver) #게시물 정보 가져오기\n",
    "    results.append(data)\n",
    "    insert_item_one(mongo, {\"_id\" : i , \"cont\": \"{}\".format(results[i][0]), \"hash\" : \"{}\".format(results[i][-1])}, \"insta\", \"mope\")\n",
    "    move_next(driver)\n",
    "    \n",
    "    \n",
    "# result_li\n",
    "# print(results[:2])"
   ]
  },
  {
   "cell_type": "code",
   "execution_count": null,
   "metadata": {},
   "outputs": [],
   "source": [
    "df = pd.DataFrame(results,columns=['content','date','like',' ','tags'])\n",
    "df"
   ]
  },
  {
   "cell_type": "code",
   "execution_count": null,
   "metadata": {},
   "outputs": [],
   "source": [
    "# insta collection 안에 있는 모든 파일을 find 해라.\n",
    "cursor = find_item(mongo,None,\"insta2\",\"insta2\")\n",
    "for list in cursor:\n",
    "    print(list)"
   ]
  },
  {
   "cell_type": "code",
   "execution_count": null,
   "metadata": {},
   "outputs": [],
   "source": [
    "df['date'].unique()"
   ]
  },
  {
   "cell_type": "code",
   "execution_count": null,
   "metadata": {},
   "outputs": [],
   "source": [
    "print(html)"
   ]
  },
  {
   "cell_type": "code",
   "execution_count": null,
   "metadata": {},
   "outputs": [],
   "source": []
  },
  {
   "cell_type": "code",
   "execution_count": null,
   "metadata": {},
   "outputs": [],
   "source": []
  },
  {
   "cell_type": "code",
   "execution_count": null,
   "metadata": {},
   "outputs": [],
   "source": []
  },
  {
   "cell_type": "code",
   "execution_count": null,
   "metadata": {},
   "outputs": [],
   "source": []
  }
 ],
 "metadata": {
  "hide_input": false,
  "kernelspec": {
   "display_name": "Python 3",
   "language": "python",
   "name": "python3"
  },
  "language_info": {
   "codemirror_mode": {
    "name": "ipython",
    "version": 3
   },
   "file_extension": ".py",
   "mimetype": "text/x-python",
   "name": "python",
   "nbconvert_exporter": "python",
   "pygments_lexer": "ipython3",
   "version": "3.8.3"
  },
  "toc": {
   "base_numbering": 1,
   "nav_menu": {},
   "number_sections": true,
   "sideBar": true,
   "skip_h1_title": false,
   "title_cell": "Table of Contents",
   "title_sidebar": "Contents",
   "toc_cell": false,
   "toc_position": {},
   "toc_section_display": true,
   "toc_window_display": false
  }
 },
 "nbformat": 4,
 "nbformat_minor": 4
}

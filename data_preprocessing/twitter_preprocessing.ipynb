{
 "cells": [
  {
   "cell_type": "markdown",
   "metadata": {},
   "source": [
    "# 데이터 전처리"
   ]
  },
  {
   "cell_type": "code",
   "execution_count": 1,
   "metadata": {},
   "outputs": [
    {
     "name": "stderr",
     "output_type": "stream",
     "text": [
      "ERROR:lml.utils:failed to import pyecharts_snapshot\n",
      "Traceback (most recent call last):\n",
      "  File \"C:\\Users\\Bit\\anaconda3\\lib\\site-packages\\lml\\utils.py\", line 43, in do_import\n",
      "    plugin_module = __import__(plugin_module_name)\n",
      "ModuleNotFoundError: No module named 'pyecharts_snapshot'\n"
     ]
    }
   ],
   "source": [
    "import pandas as pd\n",
    "import numpy as np\n",
    "import seaborn as sns\n",
    "import matplotlib.pyplot as plt\n",
    "\n",
    "import re\n",
    "\n",
    "from tqdm import tqdm\n",
    "\n",
    "from pymongo import MongoClient\n",
    "from pymongo.cursor import CursorType\n",
    "\n",
    "import warnings\n",
    "warnings.filterwarnings('ignore')\n",
    "\n",
    "from IPython.display import Image\n",
    "\n",
    "from pyecharts import Pie\n",
    "\n",
    "import itertools\n",
    "import PIL.Image as pilimg\n",
    "\n",
    "import plotly.express as px\n",
    "from pyecharts import Pie"
   ]
  },
  {
   "cell_type": "code",
   "execution_count": 2,
   "metadata": {},
   "outputs": [],
   "source": [
    "from hanspell import spell_checker\n",
    "from pykospacing import spacing\n",
    "from soynlp.normalizer import *\n",
    "from konlpy.tag import Okt\n",
    "\n",
    "okt = Okt()"
   ]
  },
  {
   "cell_type": "code",
   "execution_count": 3,
   "metadata": {},
   "outputs": [],
   "source": [
    "stopwords = []\n",
    "f = open('data/stopwords.csv')\n",
    "lines = f.readlines()\n",
    "for line in lines:\n",
    "    line = line.strip()\n",
    "    stopwords.append(line)\n",
    "f.close()"
   ]
  },
  {
   "cell_type": "code",
   "execution_count": 4,
   "metadata": {},
   "outputs": [],
   "source": [
    "def delete_re_dm(dataframe,column):\n",
    "    dataframe[column] = dataframe[column].str.replace('[^ㄱ-ㅎㅏ-ㅣ가-힣 ]', \" \")\n",
    "    dataframe1 = dataframe.drop_duplicates(subset=[column], inplace=False)\n",
    "    dataframe1[column].replace('', np.nan, inplace=True)\n",
    "    dataframe2 = dataframe1.dropna(how='any')\n",
    "    dataframe2.reset_index(inplace=True)\n",
    "    dataframe2.drop(columns = 'index', inplace=True)\n",
    "    return dataframe2\n",
    "\n",
    "def delete_dp_dm(dataframe,column):\n",
    "    dataframe1 = dataframe.copy()\n",
    "    dataframe1[column] = dataframe1[column].apply(lambda x : x.strip())\n",
    "    dataframe1[dataframe1[column]==''] = np.nan\n",
    "    dataframe2 = dataframe1.dropna(how='any')\n",
    "    dataframe2.reset_index(inplace=True)\n",
    "    dataframe2.drop(columns = 'index', inplace=True)\n",
    "    return dataframe2\n",
    "\n",
    "# 전처리 함수\n",
    "def text_preprocessing(textlist):\n",
    "    X_train = []\n",
    "    i=0\n",
    "    for sentence in tqdm(textlist):\n",
    "        try:\n",
    "            temp_X = []\n",
    "            new_sentence = spacing(sentence)\n",
    "            new_sentence = spell_checker.check(new_sentence).checked\n",
    "            new_sentence = emoticon_normalize(new_sentence, num_repeats=2)\n",
    "            temp_X = okt.morphs(new_sentence, norm=True, stem=True)\n",
    "            temp_X = [w for w in temp_X if not w in stopwords]\n",
    "#             temp_X = [w for w in temp_X if len(w)>=2]\n",
    "            X_train.append(temp_X)\n",
    "        except Exception as e:\n",
    "            temp_X = ['에러']\n",
    "            X_train.append(temp_X)\n",
    "            print(i,'번째에서 error 발생', e)\n",
    "        i+=1\n",
    "    return X_train\n",
    "\n",
    "def sentence_preprocessing(sentence):\n",
    "    new_sentence = spacing(sentence)\n",
    "    new_sentence = spell_checker.check(new_sentence).checked\n",
    "    new_sentence = emoticon_normalize(new_sentence, num_repeats=2)\n",
    "    new_sentence = okt.morphs(new_sentence, norm=True, stem=True)\n",
    "    new_sentence = [w for w in new_sentence if not w in stopwords]\n",
    "    return new_sentence"
   ]
  },
  {
   "cell_type": "code",
   "execution_count": 5,
   "metadata": {},
   "outputs": [],
   "source": [
    "def find_item_one(mongo, condition=None, db_name=None, collection_name=None):\n",
    "    result = mongo[db_name][collection_name].find_one(condition, {\"_id\": False})\n",
    "    return result\n",
    "\n",
    "def find_item(mongo, condition=None, db_name=None, collection_name=None):\n",
    "    result = mongo[db_name][collection_name].find(condition, {\"_id\": False}, no_cursor_timeout=True)\n",
    "    return result"
   ]
  },
  {
   "cell_type": "code",
   "execution_count": 6,
   "metadata": {},
   "outputs": [
    {
     "name": "stdout",
     "output_type": "stream",
     "text": [
      "MongoClient(host=['121.138.83.13:1234'], document_class=dict, tz_aware=False, connect=True)\n"
     ]
    }
   ],
   "source": [
    "host = ''\n",
    "port = ''\n",
    "mongo = MongoClient(host, int(port))\n",
    "print(mongo)"
   ]
  },
  {
   "cell_type": "code",
   "execution_count": 7,
   "metadata": {},
   "outputs": [],
   "source": [
    "cursor_happy = find_item(mongo, None,'Twitter','happy')\n",
    "cursor_angry = find_item(mongo, None,'Twitter','angry')\n",
    "cursor_sad = find_item(mongo, None,'Twitter','sad')\n",
    "cursor_surprise = find_item(mongo, None,'Twitter','suprise')\n",
    "cursor_fear = find_item(mongo, None,'Twitter','fear')\n",
    "cursor_boring = find_item(mongo, None,'Twitter','boring')\n"
   ]
  },
  {
   "cell_type": "code",
   "execution_count": 8,
   "metadata": {},
   "outputs": [
    {
     "name": "stderr",
     "output_type": "stream",
     "text": [
      "104330it [00:02, 41536.08it/s]\n",
      "250158it [00:06, 41328.36it/s]\n",
      "98618it [00:02, 42987.20it/s]\n",
      "133144it [00:03, 36093.15it/s]\n",
      "127763it [00:03, 38254.88it/s]\n",
      "157591it [00:02, 58576.23it/s]\n"
     ]
    }
   ],
   "source": [
    "text_happy = []\n",
    "text_angry = []\n",
    "text_sad = []\n",
    "text_fear = []\n",
    "text_surprise = []\n",
    "text_boring = []\n",
    "\n",
    "                                                                                                                                                                                                                                                                                                                                                                                                                                                                                                                                                                                                                                                                                                                                                                                                                                                                                                                                                                                                                                                                                                                                                                                                                                                                                                                                                                                                                                                                                                                                                                                                                                                                                                                                                                                                                                                                                                                                                                                                                                                                                                                                                                                                                                                                                                                                                                                                                                                                                                                                                                                                                                                                                                                                                                                                                                                                                                                                                                                                                                                                                                                                                                                                                                                                                                                                                                                                                                                                                                                                                                                                                                                                                                                                                                                                                                                                                                                                                                                                                                                                                                                                                                                                                                                                                                                                                                                                                                                                                                                                                                                                                                                                                                                                                                                                                                                                                                                                                                                                                                                                                                                                                                                                                                                                                                                                                                                                                                                                                                                                                                                                                                                                                                                                                                                                                                                                                                                                                                                                                                                                                                                                                                                                                                                                                                                                                                                                                                                                                                                                                                                                                                                                                                                                                                                                                                                                                                                                                                                                                                                                                                                                                                                                                                                                                                                                                                                                                                                                                                                                                                                                                                                                                                                                                                                                                                                                                                                                                                                                                                                                                                                                                                                                                                                                                                                                                                                                                                                                                                                                                                                                                                                                                                                                                                                                                                                                                                                                                                                                                                                                                                                                                                                                                                                                                                                                                                                                                                                                                                                                                                                                                                                                                                                                                                                                                                                       \n",
    "for i in tqdm(cursor_happy):\n",
    "    text_happy.append(i['text'])\n",
    "\n",
    "for i in tqdm(cursor_angry):\n",
    "    text_angry.append(i['text'])\n",
    "    \n",
    "for i in tqdm(cursor_sad):\n",
    "    text_sad.append(i['text'])    \n",
    "    \n",
    "for i in tqdm(cursor_fear):\n",
    "    text_fear.append(i['text'])\n",
    "\n",
    "for i in tqdm(cursor_surprise):\n",
    "    text_surprise.append(i['text'])   \n",
    "    \n",
    "for i in tqdm(cursor_boring):\n",
    "    text_boring.append(i['text'])   "
   ]
  },
  {
   "cell_type": "code",
   "execution_count": 9,
   "metadata": {},
   "outputs": [],
   "source": [
    "df_happy1 = pd.DataFrame({'text':text_happy[:100000]})\n",
    "df_angry1 = pd.DataFrame({'text':text_angry[:100000]})\n",
    "df_sad1 = pd.DataFrame({'text':text_sad[:100000]})\n",
    "df_fear1 = pd.DataFrame({'text':text_fear[:100000]})\n",
    "df_surprise1 = pd.DataFrame({'text':text_surprise[:100000]})\n",
    "df_boring1 = pd.DataFrame({'text':text_boring[:100000]})"
   ]
  },
  {
   "cell_type": "code",
   "execution_count": 10,
   "metadata": {},
   "outputs": [],
   "source": [
    "df_happy = delete_re_dm(df_happy1,'text')\n",
    "df_happy = delete_dp_dm(df_happy,'text')\n",
    "\n",
    "df_angry = delete_re_dm(df_angry1,'text')\n",
    "df_angry = delete_dp_dm(df_angry,'text')\n",
    "\n",
    "df_sad = delete_re_dm(df_sad1,'text')\n",
    "df_sad = delete_dp_dm(df_sad,'text')\n",
    "\n",
    "df_fear = delete_re_dm(df_fear1,'text')\n",
    "df_fear = delete_dp_dm(df_fear,'text')\n",
    "\n",
    "df_surprise = delete_re_dm(df_surprise1,'text')\n",
    "df_surprise = delete_dp_dm(df_surprise,'text')\n",
    "\n",
    "df_boring = delete_re_dm(df_boring1,'text')\n",
    "df_boring = delete_dp_dm(df_boring,'text')"
   ]
  },
  {
   "cell_type": "code",
   "execution_count": 11,
   "metadata": {},
   "outputs": [],
   "source": [
    "df_happy = df_happy.drop(df_happy.index[[1,8,17,26,31,36,39,59,84,98,107,144,165,196,207,272,279,281]])"
   ]
  },
  {
   "cell_type": "code",
   "execution_count": 12,
   "metadata": {},
   "outputs": [],
   "source": [
    "df_happy = df_happy[df_happy['text'].str.contains('아스트로')==False]\n",
    "df_happy = df_happy[df_happy['text'].str.contains('은우')==False]\n",
    "df_happy = df_happy[df_happy['text'].str.contains('트레저')==False]\n",
    "df_happy = df_happy[df_happy['text'].str.contains('건희')==False]\n",
    "df_happy = df_happy[df_happy['text'].str.contains('섹트')==False]\n",
    "df_happy = df_happy[df_happy['text'].str.contains('도운')==False]"
   ]
  },
  {
   "cell_type": "code",
   "execution_count": 13,
   "metadata": {},
   "outputs": [],
   "source": [
    "df_surprise = df_surprise[df_surprise['text'].str.contains('선착') == False]\n",
    "df_surprise = df_surprise[df_surprise['text'].str.contains('방탄') == False]\n",
    "df_surprise = df_surprise[df_surprise['text'].str.contains('원호') == False]\n",
    "df_surprise = df_surprise[df_surprise['text'].str.contains('영웅') == False]\n",
    "df_surprise = df_surprise[df_surprise['text'].str.contains('찬열') == False]\n",
    "df_surprise = df_surprise[df_surprise['text'].str.contains('티저') == False]"
   ]
  },
  {
   "cell_type": "code",
   "execution_count": 14,
   "metadata": {},
   "outputs": [],
   "source": [
    "df_surprise = df_surprise.drop(df_surprise.index[[124,141,174,194,199,217,233,252,468,543]])"
   ]
  },
  {
   "cell_type": "code",
   "execution_count": 15,
   "metadata": {},
   "outputs": [],
   "source": [
    "df_fear = df_fear[df_fear['text'].str.contains('바디') == False]\n",
    "df_fear = df_fear[df_fear['text'].str.contains('변녀') == False]\n",
    "df_fear = df_fear[df_fear['text'].str.contains('엑소') == False]"
   ]
  },
  {
   "cell_type": "code",
   "execution_count": 16,
   "metadata": {},
   "outputs": [],
   "source": [
    "df_happy['category'] = 0\n",
    "df_angry['category'] = 1\n",
    "df_sad['category'] = 2\n",
    "df_fear['category'] = 3\n",
    "df_surprise['category'] = 4\n",
    "df_boring['category'] = 5"
   ]
  },
  {
   "cell_type": "code",
   "execution_count": 17,
   "metadata": {},
   "outputs": [],
   "source": [
    "df = pd.concat([df_happy, df_angry, df_sad, df_fear, df_surprise, df_boring])"
   ]
  },
  {
   "cell_type": "code",
   "execution_count": 18,
   "metadata": {
    "scrolled": true
   },
   "outputs": [
    {
     "data": {
      "text/plain": [
       "(241542, 2)"
      ]
     },
     "execution_count": 18,
     "metadata": {},
     "output_type": "execute_result"
    }
   ],
   "source": [
    "df.shape"
   ]
  }
 ],
 "metadata": {
  "kernelspec": {
   "display_name": "Python 3",
   "language": "python",
   "name": "python3"
  },
  "language_info": {
   "codemirror_mode": {
    "name": "ipython",
    "version": 3
   },
   "file_extension": ".py",
   "mimetype": "text/x-python",
   "name": "python",
   "nbconvert_exporter": "python",
   "pygments_lexer": "ipython3",
   "version": "3.8.5"
  }
 },
 "nbformat": 4,
 "nbformat_minor": 4
}

{
 "cells": [
  {
   "cell_type": "markdown",
   "metadata": {},
   "source": [
    "# 트위터 크롤링"
   ]
  },
  {
   "cell_type": "markdown",
   "metadata": {},
   "source": [
    "## 라이브러리 설치 및 임포트"
   ]
  },
  {
   "cell_type": "code",
   "execution_count": null,
   "metadata": {},
   "outputs": [],
   "source": [
    "# 필요 라이브러리 설치\n",
    "# pip install python-twitter"
   ]
  },
  {
   "cell_type": "code",
   "execution_count": null,
   "metadata": {},
   "outputs": [],
   "source": [
    "# 라이브러리 임포트\n",
    "import twitter\n",
    "import json\n",
    "from pymongo import MongoClient\n",
    "from pymongo.cursor import CursorType"
   ]
  },
  {
   "cell_type": "markdown",
   "metadata": {},
   "source": [
    "## DB접속 변수 설정"
   ]
  },
  {
   "cell_type": "code",
   "execution_count": null,
   "metadata": {},
   "outputs": [],
   "source": [
    "# DB적재를 위한 변수 설정\n",
    "def insert_item_one(mongo, data, db_name=None, collection_name=None):\n",
    "    result = mongo[db_name][collection_name].insert_one(data).inserted_id\n",
    "    return result\n",
    "\n",
    "host = \"IP\"\n",
    "port = \"PORT\"\n",
    "mongo = MongoClient(host, int(port))"
   ]
  },
  {
   "cell_type": "markdown",
   "metadata": {},
   "source": [
    "## Twitter API 접속 변수 설정"
   ]
  },
  {
   "cell_type": "code",
   "execution_count": null,
   "metadata": {},
   "outputs": [],
   "source": [
    "# API Key 변수 설정\n",
    "twitter_consumer_key = \"twitter_consumer_key\"\n",
    "twitter_consumer_secret = \"twitter_consumer_secret\"\n",
    "twitter_access_token = \"twitter_access_token\"\n",
    "twitter_access_secret = \"twitter_access_secret\"\n",
    "\n",
    "# Twitter API 설정\n",
    "twitter_api = twitter.Api(consumer_key=twitter_consumer_key,\n",
    "                          consumer_secret=twitter_consumer_secret,\n",
    "                          access_token_key=twitter_access_token,\n",
    "                          access_token_secret=twitter_access_secret)\n",
    "\n",
    "\n",
    "\n",
    "# 크롤링 해오기 위한 쿼리문 키워드 설정\n",
    "query = ['슬픔', '슬퍼', '우울', '우울해','슬프다',\n",
    "         '서운','처량','울적','위축','허탈','외로운',\n",
    "         '후회','울고싶다','침울','쓸쓸한','절망','허전']"
   ]
  },
  {
   "cell_type": "markdown",
   "metadata": {},
   "source": [
    "## Twitter 크롤링"
   ]
  },
  {
   "cell_type": "code",
   "execution_count": null,
   "metadata": {},
   "outputs": [],
   "source": [
    "stream = twitter_api.GetStreamFilter(track=query)\n",
    "print(\"test\")\n",
    "\n",
    "text = []\n",
    "i=0\n",
    "# Text 크롤링\n",
    "while(True):\n",
    "    try:\n",
    "        for status in stream:\n",
    "            text.append(status['text'])\n",
    "            print(\"{}\".format(text[i]))\n",
    "            insert_item_one(mongo, {\"text\": \"{}\".format(text[i])}, \"Twitter\", \"sad\")\n",
    "            i += 1\n",
    "    except:\n",
    "        print(\"오류발생\")"
   ]
  }
 ],
 "metadata": {
  "kernelspec": {
   "display_name": "Python 3",
   "language": "python",
   "name": "python3"
  },
  "language_info": {
   "codemirror_mode": {
    "name": "ipython",
    "version": 3
   },
   "file_extension": ".py",
   "mimetype": "text/x-python",
   "name": "python",
   "nbconvert_exporter": "python",
   "pygments_lexer": "ipython3",
   "version": "3.8.5"
  },
  "toc": {
   "base_numbering": 1,
   "nav_menu": {},
   "number_sections": true,
   "sideBar": true,
   "skip_h1_title": false,
   "title_cell": "Table of Contents",
   "title_sidebar": "Contents",
   "toc_cell": false,
   "toc_position": {},
   "toc_section_display": true,
   "toc_window_display": false
  }
 },
 "nbformat": 4,
 "nbformat_minor": 5
}
